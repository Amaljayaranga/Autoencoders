{
  "nbformat": 4,
  "nbformat_minor": 0,
  "metadata": {
    "colab": {
      "name": "NNVae.ipynb",
      "provenance": [],
      "include_colab_link": true
    },
    "kernelspec": {
      "name": "python3",
      "display_name": "Python 3"
    }
  },
  "cells": [
    {
      "cell_type": "markdown",
      "metadata": {
        "id": "view-in-github",
        "colab_type": "text"
      },
      "source": [
        "<a href=\"https://colab.research.google.com/github/Amaljayaranga/Autoencoders/blob/master/NNVae.ipynb\" target=\"_parent\"><img src=\"https://colab.research.google.com/assets/colab-badge.svg\" alt=\"Open In Colab\"/></a>"
      ]
    },
    {
      "cell_type": "code",
      "metadata": {
        "id": "IaBcFKTiqs3v",
        "colab_type": "code",
        "colab": {
          "base_uri": "https://localhost:8080/",
          "height": 513
        },
        "outputId": "5a03a52a-2f0c-4752-c2de-ca3372a78c9a"
      },
      "source": [
        "import torch\n",
        "from torch import nn\n",
        "from torch.autograd import Variable\n",
        "from torchvision.datasets import MNIST\n",
        "from torchvision import transforms\n",
        "from torch.utils.data import DataLoader\n",
        "import torch.optim as optim\n",
        "import matplotlib.pyplot as plt\n",
        "import torch.nn.functional as F\n",
        "\n",
        "dataset = MNIST('./data',transform=transforms.ToTensor(), download=True)\n",
        "dataloader = DataLoader(dataset,batch_size=100,shuffle=True)\n",
        "\n",
        "\n",
        "class Model(nn.Module):\n",
        "    def __init__(self):\n",
        "        super(Model,self).__init__()\n",
        "\n",
        "        self.fc1 = nn.Linear(28*28,400)\n",
        "        self.fc2 = nn.Linear(400, 200)\n",
        "        self.fc3 = nn.Linear(200, 100)\n",
        "        self.fcmu = nn.Linear(100, 20)\n",
        "        self.fcvar = nn.Linear(100, 20)\n",
        "\n",
        "        self.fc4 = nn.Linear(20,100)\n",
        "        self.fc5 = nn.Linear(100,200)\n",
        "        self.fc6 = nn.Linear(200,400)\n",
        "        self.fc7 = nn.Linear(400,28*28)\n",
        "\n",
        "    def encode(self,x):\n",
        "        x = F.relu(self.fc1(x))\n",
        "        x = F.relu(self.fc2(x))\n",
        "        x = F.relu(self.fc3(x))\n",
        "        return self.fcmu(x), self.fcvar(x)\n",
        "\n",
        "    def decode(self,z):\n",
        "        z = F.relu(self.fc4(z))\n",
        "        z = F.relu(self.fc5(z))\n",
        "        z = F.relu(self.fc6(z))\n",
        "        z = self.fc7(z)\n",
        "        return torch.sigmoid(z)\n",
        "\n",
        "    def reparametrize(self,mu,var):\n",
        "        std = torch.exp(0.5*var)\n",
        "        eps = torch.rand_like(std)\n",
        "        return mu + eps*std\n",
        "\n",
        "    def forward(self,x):\n",
        "        mu, var = self.encode(x)\n",
        "        z = self.reparametrize(mu,var)\n",
        "        return self.decode(z), mu, var\n",
        "\n",
        "\n",
        "def loss_f(rx,x,mu,var):\n",
        "    recons_loss = nn.MSELoss(reduction='sum')(rx,x)\n",
        "    KLD = -0.5*torch.sum(1 + torch.log(var.pow(2)) - mu.pow(2) - var.pow(2))\n",
        "    return   recons_loss + KLD\n",
        "\n",
        "\n",
        "model = Model()\n",
        "optimizer = optim.Adam(model.parameters(), lr=0.001)\n",
        "\n",
        "train_loss = 0\n",
        "\n",
        "train = False\n",
        "\n",
        "if train:\n",
        "    for epoch in range(100):\n",
        "        for data in dataloader:\n",
        "            img, _ = data\n",
        "            img = img.view(img.size(0), -1)\n",
        "            img = Variable(img)\n",
        "            optimizer.zero_grad()\n",
        "            rx, mu, var = model(img)\n",
        "            #print(rx.size())\n",
        "            loss = loss_f(rx, img, mu, var)\n",
        "\n",
        "            loss.backward()\n",
        "            train_loss += loss.item()\n",
        "            optimizer.step()\n",
        "        print('Epoch : ', epoch+1, 'Loss : ', loss.item()/len(img))\n",
        "\n",
        "    torch.save(model, './nn_vae.pth')\n",
        "\n",
        "\n",
        "if not train:\n",
        "    model = torch.load('./nn_vae.pth')\n",
        "    model.eval()\n",
        "\n",
        "    img, _ = next(iter(dataloader))\n",
        "    plt.imshow(img.numpy()[0].reshape(28,28), cmap='gray')\n",
        "    plt.show()\n",
        "\n",
        "    img = img.view(img.size(0), -1)\n",
        "    img = Variable(img)\n",
        "    #print(img.size())\n",
        "    rx, mu, var = model(img)\n",
        "    #print(output.size())\n",
        "    plt.imshow(rx.detach().numpy()[0].reshape(28,28), cmap='gray')\n",
        "    plt.show()\n",
        "\n"
      ],
      "execution_count": 2,
      "outputs": [
        {
          "output_type": "display_data",
          "data": {
            "image/png": "[encoded data removed]",
            "text/plain": [
              "<Figure size 432x288 with 1 Axes>"
            ]
          },
          "metadata": {
            "tags": []
          }
        },
        {
          "output_type": "display_data",
          "data": {
            "image/png": "[encoded data removed]",
            "text/plain": [
              "<Figure size 432x288 with 1 Axes>"
            ]
          },
          "metadata": {
            "tags": []
          }
        }
      ]
    }
  ]
}