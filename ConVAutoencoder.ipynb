{
  "nbformat": 4,
  "nbformat_minor": 0,
  "metadata": {
    "colab": {
      "name": "ConVAutoencoder.ipynb",
      "provenance": [],
      "include_colab_link": true
    },
    "kernelspec": {
      "name": "python3",
      "display_name": "Python 3"
    }
  },
  "cells": [
    {
      "cell_type": "markdown",
      "metadata": {
        "id": "view-in-github",
        "colab_type": "text"
      },
      "source": [
        "<a href=\"https://colab.research.google.com/github/Amaljayaranga/Autoencoders/blob/master/ConVAutoencoder.ipynb\" target=\"_parent\"><img src=\"https://colab.research.google.com/assets/colab-badge.svg\" alt=\"Open In Colab\"/></a>"
      ]
    },
    {
      "cell_type": "code",
      "metadata": {
        "id": "NBxLlI2XqnSl",
        "colab_type": "code",
        "colab": {
          "base_uri": "https://localhost:8080/",
          "height": 530
        },
        "outputId": "75b5db46-430e-4cd7-ff1a-53aac9c367e6"
      },
      "source": [
        "import torch\n",
        "from torch import nn\n",
        "from torch.autograd import Variable\n",
        "from torchvision.datasets import MNIST\n",
        "from torchvision import transforms\n",
        "from torch.utils.data import DataLoader\n",
        "import torch.optim as optim\n",
        "import matplotlib.pyplot as plt\n",
        "from torchsummary import summary\n",
        "\n",
        "dataset = MNIST('./data',transform=transforms.ToTensor(), download=True)\n",
        "dataloader = DataLoader(dataset,batch_size=100,shuffle=True)\n",
        "\n",
        "\n",
        "class autoencoder(nn.Module):\n",
        "    def __init__(self):\n",
        "        super(autoencoder,self).__init__()\n",
        "\n",
        "        self.encoder = nn.Sequential(\n",
        "            nn.Conv2d(in_channels=1, out_channels=8, kernel_size=3, stride=3, padding=1),\n",
        "            nn.ReLU(inplace=True),\n",
        "            nn.MaxPool2d(kernel_size=2, stride=2),\n",
        "            nn.Conv2d(in_channels=8, out_channels=16, kernel_size=3, stride=2, padding=1),\n",
        "            nn.ReLU(inplace=True),\n",
        "            nn.MaxPool2d(kernel_size=2, stride=1)\n",
        "        )\n",
        "\n",
        "        self.decoder = nn.Sequential(\n",
        "            nn.ConvTranspose2d(in_channels=16, out_channels=8, kernel_size=3, stride=2),\n",
        "            nn.ReLU(inplace=True),\n",
        "            nn.ConvTranspose2d(in_channels=8, out_channels=4, kernel_size=3, stride=3),\n",
        "            nn.ReLU(inplace=True),\n",
        "            nn.ConvTranspose2d(in_channels=4, out_channels=1, kernel_size=2, stride=2,padding=1),\n",
        "            nn.Tanh()\n",
        "        )\n",
        "\n",
        "    def forward(self,x):\n",
        "        x = self.encoder(x)\n",
        "        x = self.decoder(x)\n",
        "        return x\n",
        "\n",
        "\n",
        "model = autoencoder()\n",
        "#summary(model,(1,28,28))\n",
        "criterion = nn.MSELoss()\n",
        "optimizer = optim.Adam(model.parameters(), lr=0.001)\n",
        "\n",
        "train = False\n",
        "\n",
        "if train:\n",
        "    for epoch in range(100):\n",
        "        for data in dataloader:\n",
        "            img, _ = data\n",
        "            img = img.view(img.size(0), 1, 28, 28)\n",
        "            #print(img.size())\n",
        "            img = Variable(img)\n",
        "            #print(img.size())\n",
        "\n",
        "\n",
        "            output = model(img)\n",
        "            #print(output.size())\n",
        "            loss = criterion(output,img)\n",
        "            optimizer.zero_grad()\n",
        "            loss.backward()\n",
        "            optimizer.step()\n",
        "\n",
        "        print('Epoch :', epoch+1, 'Loss:',loss.item())\n",
        "\n",
        "    torch.save(model, './conv_autoencoder.pth')\n",
        "\n",
        "if not train:\n",
        "    model = torch.load('./conv_autoencoder.pth')\n",
        "    model.eval()\n",
        "\n",
        "    img, _ = next(iter(dataloader))\n",
        "    plt.imshow(img.numpy()[0].reshape(28,28), cmap='gray')\n",
        "    plt.show()\n",
        "\n",
        "    img = img.view(img.size(0), 1, 28, 28)\n",
        "    img = Variable(img)\n",
        "    #print(img.size())\n",
        "    output = model(img)\n",
        "    print(output.size())\n",
        "    plt.imshow(output.detach().numpy()[0].reshape(28,28), cmap='gray')\n",
        "    plt.show()"
      ],
      "execution_count": 11,
      "outputs": [
        {
          "output_type": "display_data",
          "data": {
            "image/png": "[encoded data removed]",
            "text/plain": [
              "<Figure size 432x288 with 1 Axes>"
            ]
          },
          "metadata": {
            "tags": []
          }
        },
        {
          "output_type": "stream",
          "text": [
            "torch.Size([100, 1, 28, 28])\n"
          ],
          "name": "stdout"
        },
        {
          "output_type": "display_data",
          "data": {
            "image/png": "[encoded data removed]",
            "text/plain": [
              "<Figure size 432x288 with 1 Axes>"
            ]
          },
          "metadata": {
            "tags": []
          }
        }
      ]
    }
  ]
}