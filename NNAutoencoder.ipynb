{
  "nbformat": 4,
  "nbformat_minor": 0,
  "metadata": {
    "colab": {
      "name": "NNAutoencoder.ipynb",
      "provenance": [],
      "include_colab_link": true
    },
    "kernelspec": {
      "name": "python3",
      "display_name": "Python 3"
    }
  },
  "cells": [
    {
      "cell_type": "markdown",
      "metadata": {
        "id": "view-in-github",
        "colab_type": "text"
      },
      "source": [
        "<a href=\"https://colab.research.google.com/github/Amaljayaranga/Autoencoders/blob/master/NNAutoencoder.ipynb\" target=\"_parent\"><img src=\"https://colab.research.google.com/assets/colab-badge.svg\" alt=\"Open In Colab\"/></a>"
      ]
    },
    {
      "cell_type": "code",
      "metadata": {
        "id": "OfiFvjKgQp5F",
        "colab_type": "code",
        "colab": {
          "base_uri": "https://localhost:8080/",
          "height": 513
        },
        "outputId": "8c533a0c-c905-433b-bed5-ad99faf99d64"
      },
      "source": [
        "import torch\n",
        "from torch import nn\n",
        "from torch.autograd import Variable\n",
        "from torchvision.datasets import MNIST\n",
        "from torchvision import transforms\n",
        "from torch.utils.data import DataLoader\n",
        "import torch.optim as optim\n",
        "import matplotlib.pyplot as plt\n",
        "\n",
        "dataset = MNIST('./data',transform=transforms.ToTensor(), download=True)\n",
        "dataloader = DataLoader(dataset,batch_size=100,shuffle=True)\n",
        "\n",
        "\n",
        "class autoencoder(nn.Module):\n",
        "    def __init__(self):\n",
        "        super(autoencoder,self).__init__()\n",
        "\n",
        "        self.encoder = nn.Sequential(\n",
        "            nn.Linear(28*28,128),\n",
        "            nn.ReLU(inplace=True),\n",
        "            nn.Linear(128,64),\n",
        "            nn.ReLU(inplace=True),\n",
        "            nn.Linear(64,12),\n",
        "            nn.ReLU(inplace=True),\n",
        "            nn.Linear(12, 3)\n",
        "        )\n",
        "\n",
        "        self.decoder = nn.Sequential(\n",
        "            nn.Linear(3,12),\n",
        "            nn.ReLU(inplace=True),\n",
        "            nn.Linear(12,64),\n",
        "            nn.ReLU(inplace=True),\n",
        "            nn.Linear(64,128),\n",
        "            nn.ReLU(inplace=True),\n",
        "            nn.Linear(128,28*28),\n",
        "            nn.Tanh()\n",
        "        )\n",
        "\n",
        "    def forward(self,x):\n",
        "        x = self.encoder(x)\n",
        "        x = self.decoder(x)\n",
        "        return x\n",
        "\n",
        "\n",
        "model = autoencoder()\n",
        "criterion = nn.MSELoss()\n",
        "optimizer = optim.Adam(model.parameters(), lr=0.001)\n",
        "\n",
        "train = False\n",
        "\n",
        "if train:\n",
        "    for epoch in range(100):\n",
        "        for data in dataloader:\n",
        "            img, _ = data\n",
        "            img = img.view(img.size(0), -1)\n",
        "            img = Variable(img)\n",
        "            #print(img.size())\n",
        "\n",
        "            output = model(img)\n",
        "            #print(output.size())\n",
        "            loss = criterion(output,img)\n",
        "            optimizer.zero_grad()\n",
        "            loss.backward()\n",
        "            optimizer.step()\n",
        "\n",
        "        print('Epoch :', epoch+1, 'Loss:',loss.item())\n",
        "\n",
        "    torch.save(model, './nn_autoencoder.pth')\n",
        "\n",
        "if not train:\n",
        "    model = torch.load('./nn_autoencoder.pth')\n",
        "    model.eval()\n",
        "\n",
        "    img, _ = next(iter(dataloader))\n",
        "    plt.imshow(img.numpy()[0].reshape(28,28), cmap='gray')\n",
        "    plt.show()\n",
        "\n",
        "    img = img.view(img.size(0), -1)\n",
        "    img = Variable(img)\n",
        "    #print(img.size())\n",
        "    output = model(img)\n",
        "    #print(output.size())\n",
        "    plt.imshow(output.detach().numpy()[0].reshape(28,28), cmap='gray')\n",
        "    plt.show()\n"
      ],
      "execution_count": 2,
      "outputs": [
        {
          "output_type": "display_data",
          "data": {
            "image/png": "[encoded data removed]",
            "text/plain": [
              "<Figure size 432x288 with 1 Axes>"
            ]
          },
          "metadata": {
            "tags": []
          }
        },
        {
          "output_type": "display_data",
          "data": {
            "image/png": "[encoded data removed]",
            "text/plain": [
              "<Figure size 432x288 with 1 Axes>"
            ]
          },
          "metadata": {
            "tags": []
          }
        }
      ]
    }
  ]
}